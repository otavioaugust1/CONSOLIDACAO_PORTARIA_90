{
 "cells": [
  {
   "cell_type": "code",
   "execution_count": null,
   "metadata": {},
   "outputs": [],
   "source": [
    "#Pandas: Possui inúmeras funções e comandos para importar arquivos, analisar dados, tratar dados, etc.\n",
    "import pandas as pd # importando a biblioteca pandas\n",
    "\n",
    "#Time: Possui uma série de funções e comandos para trabalharmos com tempo\n",
    "import time # importando a biblioteca time\n",
    "\n",
    "#os: Possui uma série de funções e comandos para trabalharmos com arquivos\n",
    "import os # importando a biblioteca os\n",
    "\n",
    "#XlsxWriter: Possui uma série de funções e comandos para trabalharmos com arquivos excel\n",
    "import xlsxwriter # importando a biblioteca xlsxwriter\n",
    "\n",
    "#Locale: Possui uma série de funções e comandos para trabalharmos com formatação de moeda\n",
    "import locale # importando a biblioteca locale\n",
    "\n",
    "#Math: Possui uma série de funções e comandos para trabalharmos com matemática\n",
    "import math # importando a biblioteca math\n",
    "\n",
    "#Warnings: Possui detalhes sobre os avisos e alertas que aparecem, porém podemos utiliza-lo também para que os alertas de\n",
    "#futuras atualizações e metodos depreciados não sejam exibidos\n",
    "import warnings\n",
    "warnings.filterwarnings(\"ignore\") \n",
    "tempo_inicial = time.time() # tempo inicial para calcular o tempo de execução do código\n",
    "\n",
    "locale.setlocale(locale.LC_ALL, 'pt_BR.UTF-8') # definindo o locale para pt_BR\n",
    "from datetime import datetime # Utilizado para trabalhar com datas\n",
    "pd.set_option('display.max_columns', None) # Utilizado para exibir todas as colunas\n",
    "pd.set_option('display.max_rows', None) # Utilizado para exibir todas as linhas"
   ]
  },
  {
   "attachments": {},
   "cell_type": "markdown",
   "metadata": {},
   "source": [
    "## Importação das Planilhas"
   ]
  },
  {
   "attachments": {},
   "cell_type": "markdown",
   "metadata": {},
   "source": [
    "### ABA 1"
   ]
  },
  {
   "cell_type": "code",
   "execution_count": null,
   "metadata": {},
   "outputs": [],
   "source": [
    "pasta = 'APROVADO'  # Substitua pelo caminho da sua pasta\n",
    "\n",
    "arquivos = os.listdir(pasta)  # Lista todos os nomes de arquivos na pasta\n",
    "\n",
    "dfs_dict = {}\n",
    "\n",
    "aba1 = 'Ident. Fila na UF'  # Substitua pelo nome da aba que deseja ler\n",
    "\n",
    "# Loop através de cada nome de arquivo e leitura do Excel para um DataFrame\n",
    "for arquivo in arquivos:\n",
    "    caminho_arquivo = os.path.join(pasta, arquivo)  # Cria o caminho completo para o arquivo\n",
    "    if os.path.isfile(caminho_arquivo) and caminho_arquivo.endswith('.xlsx'):  # Verifica se é um arquivo Excel\n",
    "        nome_arquivo_com_extensao = os.path.basename(caminho_arquivo)  # Obtém o nome do arquivo com a extensão\n",
    "        nome_arquivo_sem_extensao = os.path.splitext(nome_arquivo_com_extensao)[0]  # Obtém o nome do arquivo sem a extensão\n",
    "        df_aba1 = pd.read_excel(caminho_arquivo, sheet_name=aba1)  # Lê a aba 'Ident. Fila na UF' do arquivo Excel\n",
    "        df_aba1['UF'] = nome_arquivo_sem_extensao  # Adiciona uma coluna 'Arquivo' com o nome do arquivo sem a extensão\n",
    "        df_aba1['STATUS'] = os.path.dirname(caminho_arquivo)  # Adiciona uma coluna 'Pasta' com o nome da pasta onde está o arquivo\n",
    "        dfs_dict[nome_arquivo_sem_extensao] = df_aba1  # Adiciona o DataFrame em um dicionário usando o nome do arquivo como chave\n",
    "\n",
    "# Concatena todos os DataFrames em um único DataFrame\n",
    "df_planilha_aba1 = pd.concat(dfs_dict.values(), ignore_index=True)"
   ]
  },
  {
   "cell_type": "code",
   "execution_count": null,
   "metadata": {},
   "outputs": [],
   "source": [
    "df_planilha_aba1.rename(columns={'PLANO ESTADUAL DE REDUÇÃO DE FILAS DE ESPERA EM CIRURGIAS ELETIVAS - FILA DE ESPERA':'CÓDIGO DO PROCEDIMENTO NO SIGTAP','Unnamed: 1':'PROCEDIMENTO CIRÚRGICO',\n",
    "                                 'Unnamed: 2':'QUANTIDADE DE SOLICITAÇÕES NA FILA ATÉ DIA 31/12/22', 'Unnamed: 3':'Redução do Tamanho da Fila (%)', 'Unnamed: 4':'Prazo para reduzir o % proposto (em meses)', \n",
    "                                 'Unnamed: 5':'Qtde de cirurgias a serem feitas no prazo pactuado', 'Unnamed: 6':'SQ (CODIGO Interno', 'UF':'UF'} , inplace=True) \n",
    "                                # Renomeia a coluna 'PLANO ESTADUAL DE REDUÇÃO DE FILAS DE ESPERA EM CIRURGIAS ELETIVAS - FILA DE ESPERA' para 'UF'\n",
    "\n",
    "df_planilha_aba1.drop([0,1], inplace=True) # Exclui as linhas 0 e 1\n",
    "df_planilha_aba1.drop('Unnamed: 7', axis=1, inplace=True) # Removendo coluna 'Unnamed: 7'\n",
    "df_planilha_aba1.dropna(subset=['PROCEDIMENTO CIRÚRGICO'], inplace=True) # Exclui as linhas que não possuem valor na coluna 'PROCEDIMENTO CIRÚRGICO'\n",
    "df_planilha_aba1.drop(df_planilha_aba1[df_planilha_aba1['PROCEDIMENTO CIRÚRGICO'] == 'TOTAL'].index, inplace=True) # Exclui as linhas que possuem valor 'TOTAL' na coluna 'PROCEDIMENTO CIRÚRGICO'\n",
    "df_planilha_aba1.drop(df_planilha_aba1[df_planilha_aba1['PROCEDIMENTO CIRÚRGICO'] == 'PROCEDIMENTO CIRÚRGICO'].index, inplace=True) # Exclui as linhas que possuem valor 'TOTAL' na coluna 'PROCEDIMENTO CIRÚRGICO'\n",
    "df_planilha_aba1['QUANTIDADE DE SOLICITAÇÕES NA FILA ATÉ DIA 31/12/22'] = df_planilha_aba1['QUANTIDADE DE SOLICITAÇÕES NA FILA ATÉ DIA 31/12/22'].astype(int) # Converte a coluna 'Qtde de cirurgias a serem feitas no prazo pactuado' para inteiro\n",
    "df_planilha_aba1['Redução do Tamanho da Fila (%)'] = df_planilha_aba1['Redução do Tamanho da Fila (%)'].astype(float) # Converte a coluna 'Redução do Tamanho da Fila (%)' para float\n",
    "#df_planilha_aba1['Qtde de cirurgias a serem feitas no prazo pactuado'] = round(df_planilha_aba1['Qtde de cirurgias a serem feitas no prazo pactuado']) # Converte a coluna 'Qtde de cirurgias a serem feitas no prazo pactuado' para inteiro\n",
    "df_planilha_aba1['Qtde de cirurgias a serem feitas no prazo pactuado'] = round(df_planilha_aba1['QUANTIDADE DE SOLICITAÇÕES NA FILA ATÉ DIA 31/12/22'] * df_planilha_aba1['Redução do Tamanho da Fila (%)']).astype(int) # Cria uma nova coluna 'Qtde de cirurgias a serem feitas no prazo pactuado2' com o resultado da multiplicação da coluna 'QUANTIDADE DE SOLICITAÇÕES NA FILA ATÉ DIA 31/12/22' pela coluna 'Redução do Tamanho da Fila (%)'\n"
   ]
  },
  {
   "cell_type": "code",
   "execution_count": null,
   "metadata": {},
   "outputs": [],
   "source": [
    "df_planilha_aba1.head(10)"
   ]
  },
  {
   "attachments": {},
   "cell_type": "markdown",
   "metadata": {},
   "source": [
    "### ABA 2"
   ]
  },
  {
   "cell_type": "code",
   "execution_count": null,
   "metadata": {},
   "outputs": [],
   "source": [
    "pasta = 'APROVADO'  # Substitua pelo caminho da sua pasta\n",
    "\n",
    "arquivos = os.listdir(pasta)  # Lista todos os nomes de arquivos na pasta\n",
    "\n",
    "dfs_dict = {}\n",
    "\n",
    "aba1 = 'Ident. CNES e Proced.'  # Substitua pelo nome da aba que deseja ler\n",
    "\n",
    "# Loop através de cada nome de arquivo e leitura do Excel para um DataFrame\n",
    "for arquivo in arquivos:\n",
    "    caminho_arquivo = os.path.join(pasta, arquivo)  # Cria o caminho completo para o arquivo\n",
    "    if os.path.isfile(caminho_arquivo) and caminho_arquivo.endswith('.xlsx'):  # Verifica se é um arquivo Excel\n",
    "        nome_arquivo_com_extensao = os.path.basename(caminho_arquivo)  # Obtém o nome do arquivo com a extensão\n",
    "        nome_arquivo_sem_extensao = os.path.splitext(nome_arquivo_com_extensao)[0]  # Obtém o nome do arquivo sem a extensão\n",
    "        df_aba1 = pd.read_excel(caminho_arquivo, sheet_name=aba1)  # Lê a aba 'Ident. Fila na UF' do arquivo Excel\n",
    "        df_aba1['UF'] = nome_arquivo_sem_extensao  # Adiciona uma coluna 'Arquivo' com o nome do arquivo sem a extensão\n",
    "        df_aba1['STATUS'] = os.path.dirname(caminho_arquivo)  # Adiciona uma coluna 'Pasta' com o nome da pasta onde está o arquivo\n",
    "        dfs_dict[nome_arquivo_sem_extensao] = df_aba1  # Adiciona o DataFrame em um dicionário usando o nome do arquivo como chave\n",
    "\n",
    "# Concatena todos os DataFrames em um único DataFrame\n",
    "df_planilha_aba2 = pd.concat(dfs_dict.values(), ignore_index=True)"
   ]
  },
  {
   "cell_type": "code",
   "execution_count": null,
   "metadata": {},
   "outputs": [],
   "source": [
    "# Tratamento dos dados da aba 'Ident. CNES e Proced.'\n",
    "df_planilha_aba2.rename(columns={'PLANO ESTADUAL DE REDUÇÃO DE FILAS DE ESPERA EM CIRURGIAS ELETIVAS - CNES':'CNES','Unnamed: 1':'ESTABELECIMENTO','Unnamed: 2':'CÓDIGO DO PROCEDIMENTO PRINCIPAL NO SIGTAP', \n",
    "                                 'Unnamed: 3':'PROCEDIMENTO CIRÚRGICO (PRINCIPAL)', 'Unnamed: 4':'COMPLEMENTO COM RECURSO FEDERAL DO PROCEDIMENTO PRINCIPAL (Percentual)', 'Unnamed: 5':'GESTÃO DO SERVIÇO',\n",
    "                                 'Unnamed: 6':'CODIGO DA NATUREZA JURÍDICA','Unnamed: 7':'NATUREZA JURÍDICA', 'Unnamed: 8':'POSSUI CONTRATO COM A SECRETARIA DE SAÚDE ?',\n",
    "                                 'Unnamed: 9':'Identificação do Nome do Estabelecimento que não apareceu nesta planilha (coluna B)','Unnamed: 10':'SQ (CODIGO Interno'}, inplace=True) \n",
    "                                # Renomeia a coluna 'PLANO ESTADUAL DE REDUÇÃO DE FILAS DE ESPERA EM CIRURGIAS ELETIVAS - FILA DE ESPERA' para 'UF'\n",
    "\n",
    "df_planilha_aba2.drop([0,1], inplace=True) # Exclui as linhas 0 e 1\n",
    "df_planilha_aba2.dropna(subset=['ESTABELECIMENTO'], inplace=True) # Exclui as linhas que não possuem valor na coluna 'PROCEDIMENTO CIRÚRGICO'\n",
    "df_planilha_aba2.dropna(subset=['COD_PROCEDIMENTO'], inplace=True) # Removendo linhas com valores nulos\n",
    "df_planilha_aba2.drop(df_planilha_aba2[df_planilha_aba2['ESTABELECIMENTO'] == 'ESTABELECIMENTO'].index, inplace=True) # Exclui as linhas que possuem valor 'TOTAL' na coluna 'PROCEDIMENTO CIRÚRGICO'\n"
   ]
  },
  {
   "cell_type": "code",
   "execution_count": null,
   "metadata": {},
   "outputs": [],
   "source": [
    "df_planilha_aba2.head(10)\n"
   ]
  },
  {
   "attachments": {},
   "cell_type": "markdown",
   "metadata": {},
   "source": [
    "### ABA 3"
   ]
  },
  {
   "cell_type": "code",
   "execution_count": null,
   "metadata": {},
   "outputs": [],
   "source": [
    "pasta = 'APROVADO'  # Substitua pelo caminho da sua pasta\n",
    "\n",
    "arquivos = os.listdir(pasta)  # Lista todos os nomes de arquivos na pasta\n",
    "\n",
    "dfs_dict = {}\n",
    "\n",
    "aba1 = 'Execução'  # Substitua pelo nome da aba que deseja ler\n",
    "\n",
    "# Loop através de cada nome de arquivo e leitura do Excel para um DataFrame\n",
    "for arquivo in arquivos:\n",
    "    caminho_arquivo = os.path.join(pasta, arquivo)  # Cria o caminho completo para o arquivo\n",
    "    if os.path.isfile(caminho_arquivo) and caminho_arquivo.endswith('.xlsx'):  # Verifica se é um arquivo Excel\n",
    "        nome_arquivo_com_extensao = os.path.basename(caminho_arquivo)  # Obtém o nome do arquivo com a extensão\n",
    "        nome_arquivo_sem_extensao = os.path.splitext(nome_arquivo_com_extensao)[0]  # Obtém o nome do arquivo sem a extensão\n",
    "        df_aba1 = pd.read_excel(caminho_arquivo, sheet_name=aba1)  # Lê a aba 'Ident. Fila na UF' do arquivo Excel\n",
    "        df_aba1['UF'] = nome_arquivo_sem_extensao  # Adiciona uma coluna 'Arquivo' com o nome do arquivo sem a extensão\n",
    "        df_aba1['STATUS'] = os.path.dirname(caminho_arquivo)  # Adiciona uma coluna 'Pasta' com o nome da pasta onde está o arquivo\n",
    "        dfs_dict[nome_arquivo_sem_extensao] = df_aba1  # Adiciona o DataFrame em um dicionário usando o nome do arquivo como chave\n",
    "\n",
    "# Concatena todos os DataFrames em um único DataFrame\n",
    "df_planilha_aba3 = pd.concat(dfs_dict.values(), ignore_index=True)"
   ]
  },
  {
   "cell_type": "code",
   "execution_count": null,
   "metadata": {},
   "outputs": [],
   "source": [
    "df_planilha_aba3.rename(columns={'Distribuição e Cronograma da Execução do Recurso Financeiro':'CODIGO GESTOR','Unnamed: 1':'Gestão do Recurso','Unnamed: 2':'DESCRIÇÃO DO GESTOR','Unnamed: 3':'VALOR',\n",
    "                                 'Unnamed: 4':'março','Unnamed: 5':'abril','Unnamed: 6':'maio','Unnamed: 7':'junho','Unnamed: 8':'julho','Unnamed: 9':'agosto','Unnamed: 10':'setembro','Unnamed: 11':'outubro',\n",
    "                                 'Unnamed: 12':'novembro','Unnamed: 13':'dezembro','Unnamed: 14':'% TOTAL','SQ (CODIGO Interno':'SQ (CODIGO Interno'}, inplace=True)\n",
    "\n",
    "df_planilha_aba3.drop(df_planilha_aba3.index[0:6], inplace=True) # Remove as 5 primeiras linhas do arquivo\n",
    "df_planilha_aba3.dropna(subset=['CODIGO GESTOR'], inplace=True) # Exclui as linhas que não possuem valor na coluna 'PROCEDIMENTO CIRÚRGICO'\n",
    "df_planilha_aba3.drop(df_planilha_aba3[df_planilha_aba3['CODIGO GESTOR'] == 'CODIGO GESTOR'].index, inplace=True) # Exclui as linhas que possuem valor 'TOTAL' na coluna 'PROCEDIMENTO CIRÚRGICO'\n",
    "df_planilha_aba3.dropna(subset=['% TOTAL'], inplace=True) # Exclui as linhas que não possuem valor na coluna 'PROCEDIMENTO CIRÚRGICO'\n",
    "df_planilha_aba3.dropna(subset=['DESCRIÇÃO DO GESTOR'], inplace=True) # Exclui as linhas que não possuem valor na coluna 'PROCEDIMENTO CIRÚRGICO'\n",
    "\n",
    "cols = [\"março\", \"abril\", \"maio\", \"junho\", \"julho\", \"agosto\", \"setembro\", \"outubro\", \"novembro\", \"dezembro\", \"% TOTAL\"] # Define as colunas que serão formatadas\n",
    "df_planilha_aba3[cols] = df_planilha_aba3[cols].fillna(0).astype(float) # Converte os valores para float\n",
    "df_planilha_aba3[cols] = df_planilha_aba3[cols].applymap(lambda x: '{:.0%}'.format(float(x))) # Formata as colunas para porcentagem\n",
    "\n",
    "format_value = lambda x: '{:,.2f}'.format(float(x)).replace('.', '-').replace(',', '.').replace('-', ',')\n",
    "df_planilha_aba3['VALOR'] = df_planilha_aba3['VALOR'].apply(format_value)\n",
    "\n",
    "df_planilha_aba3.head(10) # Exibe as 5 primeiras linhas do arquivo\n"
   ]
  },
  {
   "attachments": {},
   "cell_type": "markdown",
   "metadata": {},
   "source": [
    "## SALVAR ARQUIVO"
   ]
  },
  {
   "attachments": {},
   "cell_type": "markdown",
   "metadata": {},
   "source": [
    "### EXCEL"
   ]
  },
  {
   "cell_type": "code",
   "execution_count": null,
   "metadata": {},
   "outputs": [],
   "source": [
    "writer = pd.ExcelWriter(f'PLANILHA/BASE_APROVADA.xlsx', engine='xlsxwriter') # Cria um arquivo excel\n",
    "\n",
    "df_planilha_aba1.to_excel(writer, sheet_name='Ident. Fila na UF', index=False)\n",
    "df_planilha_aba2.to_excel(writer, sheet_name='Ident. CNES e Proced.', index=False)\n",
    "df_planilha_aba3.to_excel(writer, sheet_name='Execução', index=False)\n",
    "\n",
    "writer.save()\n",
    "writer.close()"
   ]
  },
  {
   "attachments": {},
   "cell_type": "markdown",
   "metadata": {},
   "source": [
    "### CSV"
   ]
  },
  {
   "cell_type": "code",
   "execution_count": null,
   "metadata": {},
   "outputs": [],
   "source": [
    "df_planilha_aba1.to_csv('PLANILHA/BASE_APROVADA_1.csv', sep=';', encoding='latin-1', index=False) # Cria um arquivo csv\n",
    "df_planilha_aba2.to_csv('PLANILHA/BASE_APROVADA_2.csv', sep=';', encoding='latin-1', index=False) # Cria um arquivo csv\n",
    "df_planilha_aba3.to_csv('PLANILHA/BASE_APROVADA_3.csv', sep=';', encoding='latin-1', index=False) # Cria um arquivo csv"
   ]
  },
  {
   "attachments": {},
   "cell_type": "markdown",
   "metadata": {},
   "source": [
    "# BASE NÃO APROVADAS"
   ]
  },
  {
   "cell_type": "code",
   "execution_count": null,
   "metadata": {},
   "outputs": [],
   "source": [
    "pasta = 'NAO_APROVADO'  # Substitua pelo caminho da sua pasta\n",
    "\n",
    "arquivos = os.listdir(pasta)  # Lista todos os nomes de arquivos na pasta\n",
    "\n",
    "dfs_dict = {}\n",
    "\n",
    "aba1 = 'Ident. Fila na UF'  # Substitua pelo nome da aba que deseja ler\n",
    "\n",
    "# Loop através de cada nome de arquivo e leitura do Excel para um DataFrame\n",
    "for arquivo in arquivos:\n",
    "    caminho_arquivo = os.path.join(pasta, arquivo)  # Cria o caminho completo para o arquivo\n",
    "    if os.path.isfile(caminho_arquivo) and caminho_arquivo.endswith('.xlsx'):  # Verifica se é um arquivo Excel\n",
    "        nome_arquivo_com_extensao = os.path.basename(caminho_arquivo)  # Obtém o nome do arquivo com a extensão\n",
    "        nome_arquivo_sem_extensao = os.path.splitext(nome_arquivo_com_extensao)[0]  # Obtém o nome do arquivo sem a extensão\n",
    "        df_aba1 = pd.read_excel(caminho_arquivo, sheet_name=aba1)  # Lê a aba 'Ident. Fila na UF' do arquivo Excel\n",
    "        df_aba1['UF'] = nome_arquivo_sem_extensao  # Adiciona uma coluna 'Arquivo' com o nome do arquivo sem a extensão\n",
    "        df_aba1['STATUS'] = os.path.dirname(caminho_arquivo)  # Adiciona uma coluna 'Pasta' com o nome da pasta onde está o arquivo\n",
    "        dfs_dict[nome_arquivo_sem_extensao] = df_aba1  # Adiciona o DataFrame em um dicionário usando o nome do arquivo como chave\n",
    "\n",
    "# Concatena todos os DataFrames em um único DataFrame\n",
    "df_planilha_aba1N = pd.concat(dfs_dict.values(), ignore_index=True)"
   ]
  },
  {
   "cell_type": "code",
   "execution_count": null,
   "metadata": {},
   "outputs": [],
   "source": [
    "df_planilha_aba1N.rename(columns={'PLANO ESTADUAL DE REDUÇÃO DE FILAS DE ESPERA EM CIRURGIAS ELETIVAS - FILA DE ESPERA':'CÓDIGO DO PROCEDIMENTO NO SIGTAP','Unnamed: 1':'PROCEDIMENTO CIRÚRGICO',\n",
    "                                 'Unnamed: 2':'QUANTIDADE DE SOLICITAÇÕES NA FILA ATÉ DIA 31/12/22', 'Unnamed: 3':'Redução do Tamanho da Fila (%)', 'Unnamed: 4':'Prazo para reduzir o % proposto (em meses)', \n",
    "                                 'Unnamed: 5':'Qtde de cirurgias a serem feitas no prazo pactuado', 'Unnamed: 6':'SQ (CODIGO Interno', 'UF':'UF'} , inplace=True) \n",
    "                                # Renomeia a coluna 'PLANO ESTADUAL DE REDUÇÃO DE FILAS DE ESPERA EM CIRURGIAS ELETIVAS - FILA DE ESPERA' para 'UF'\n",
    "\n",
    "df_planilha_aba1N.drop([0,1], inplace=True) # Exclui as linhas 0 e 1\n",
    "df_planilha_aba1N.drop('Unnamed: 7', axis=1, inplace=True) # Removendo coluna 'Unnamed: 7'\n",
    "df_planilha_aba1N.dropna(subset=['PROCEDIMENTO CIRÚRGICO'], inplace=True) # Exclui as linhas que não possuem valor na coluna 'PROCEDIMENTO CIRÚRGICO'\n",
    "df_planilha_aba1N.drop(df_planilha_aba1N[df_planilha_aba1N['PROCEDIMENTO CIRÚRGICO'] == 'TOTAL'].index, inplace=True) # Exclui as linhas que possuem valor 'TOTAL' na coluna 'PROCEDIMENTO CIRÚRGICO'\n",
    "df_planilha_aba1N.drop(df_planilha_aba1N[df_planilha_aba1N['PROCEDIMENTO CIRÚRGICO'] == 'PROCEDIMENTO CIRÚRGICO'].index, inplace=True) # Exclui as linhas que possuem valor 'TOTAL' na coluna 'PROCEDIMENTO CIRÚRGICO'\n",
    "df_planilha_aba1N['Qtde de cirurgias a serem feitas no prazo pactuado'] = df_planilha_aba1N['Qtde de cirurgias a serem feitas no prazo pactuado'].astype(int) # Converte a coluna 'Qtde de cirurgias a serem feitas no prazo pactuado' para inteiro"
   ]
  },
  {
   "cell_type": "code",
   "execution_count": null,
   "metadata": {},
   "outputs": [],
   "source": [
    "df_planilha_aba1N.head(10)"
   ]
  },
  {
   "attachments": {},
   "cell_type": "markdown",
   "metadata": {},
   "source": [
    "## ABA 2"
   ]
  },
  {
   "cell_type": "code",
   "execution_count": null,
   "metadata": {},
   "outputs": [],
   "source": [
    "pasta = 'NAO_APROVADO'  # Substitua pelo caminho da sua pasta\n",
    "\n",
    "arquivos = os.listdir(pasta)  # Lista todos os nomes de arquivos na pasta\n",
    "\n",
    "dfs_dict = {}\n",
    "\n",
    "aba1 = 'Ident. CNES e Proced.'  # Substitua pelo nome da aba que deseja ler\n",
    "\n",
    "# Loop através de cada nome de arquivo e leitura do Excel para um DataFrame\n",
    "for arquivo in arquivos:\n",
    "    caminho_arquivo = os.path.join(pasta, arquivo)  # Cria o caminho completo para o arquivo\n",
    "    if os.path.isfile(caminho_arquivo) and caminho_arquivo.endswith('.xlsx'):  # Verifica se é um arquivo Excel\n",
    "        nome_arquivo_com_extensao = os.path.basename(caminho_arquivo)  # Obtém o nome do arquivo com a extensão\n",
    "        nome_arquivo_sem_extensao = os.path.splitext(nome_arquivo_com_extensao)[0]  # Obtém o nome do arquivo sem a extensão\n",
    "        df_aba1 = pd.read_excel(caminho_arquivo, sheet_name=aba1)  # Lê a aba 'Ident. Fila na UF' do arquivo Excel\n",
    "        df_aba1['UF'] = nome_arquivo_sem_extensao  # Adiciona uma coluna 'Arquivo' com o nome do arquivo sem a extensão\n",
    "        df_aba1['STATUS'] = os.path.dirname(caminho_arquivo)  # Adiciona uma coluna 'Pasta' com o nome da pasta onde está o arquivo\n",
    "        dfs_dict[nome_arquivo_sem_extensao] = df_aba1  # Adiciona o DataFrame em um dicionário usando o nome do arquivo como chave\n",
    "\n",
    "# Concatena todos os DataFrames em um único DataFrame\n",
    "df_planilha_aba2N = pd.concat(dfs_dict.values(), ignore_index=True)"
   ]
  },
  {
   "cell_type": "code",
   "execution_count": null,
   "metadata": {},
   "outputs": [],
   "source": [
    "# Tratamento dos dados da aba 'Ident. CNES e Proced.'\n",
    "df_planilha_aba2N.rename(columns={'PLANO ESTADUAL DE REDUÇÃO DE FILAS DE ESPERA EM CIRURGIAS ELETIVAS - CNES':'CNES','Unnamed: 1':'ESTABELECIMENTO','Unnamed: 2':'CÓDIGO DO PROCEDIMENTO PRINCIPAL NO SIGTAP', \n",
    "                                 'Unnamed: 3':'PROCEDIMENTO CIRÚRGICO (PRINCIPAL)', 'Unnamed: 4':'COMPLEMENTO COM RECURSO FEDERAL DO PROCEDIMENTO PRINCIPAL (Percentual)', 'Unnamed: 5':'GESTÃO DO SERVIÇO',\n",
    "                                 'Unnamed: 6':'CODIGO DA NATUREZA JURÍDICA','Unnamed: 7':'NATUREZA JURÍDICA', 'Unnamed: 8':'POSSUI CONTRATO COM A SECRETARIA DE SAÚDE ?',\n",
    "                                 'Unnamed: 9':'Identificação do Nome do Estabelecimento que não apareceu nesta planilha (coluna B)','Unnamed: 10':'SQ (CODIGO Interno'}, inplace=True) \n",
    "                                # Renomeia a coluna 'PLANO ESTADUAL DE REDUÇÃO DE FILAS DE ESPERA EM CIRURGIAS ELETIVAS - FILA DE ESPERA' para 'UF'\n",
    "\n",
    "df_planilha_aba2N.drop([0,1], inplace=True) # Exclui as linhas 0 e 1\n",
    "df_planilha_aba2N.dropna(subset=['ESTABELECIMENTO'], inplace=True) # Exclui as linhas que não possuem valor na coluna 'PROCEDIMENTO CIRÚRGICO'\n",
    "df_planilha_aba2N.drop(df_planilha_aba2N[df_planilha_aba2N['ESTABELECIMENTO'] == 'ESTABELECIMENTO'].index, inplace=True) # Exclui as linhas que possuem valor 'TOTAL' na coluna 'PROCEDIMENTO CIRÚRGICO'\n"
   ]
  },
  {
   "cell_type": "code",
   "execution_count": null,
   "metadata": {},
   "outputs": [],
   "source": [
    "df_planilha_aba2N.head(10)"
   ]
  },
  {
   "attachments": {},
   "cell_type": "markdown",
   "metadata": {},
   "source": [
    "## ABA 3 "
   ]
  },
  {
   "cell_type": "code",
   "execution_count": null,
   "metadata": {},
   "outputs": [],
   "source": [
    "pasta = 'NAO_APROVADO'  # Substitua pelo caminho da sua pasta\n",
    "\n",
    "arquivos = os.listdir(pasta)  # Lista todos os nomes de arquivos na pasta\n",
    "\n",
    "dfs_dict = {}\n",
    "\n",
    "aba1 = 'Execução'  # Substitua pelo nome da aba que deseja ler\n",
    "\n",
    "# Loop através de cada nome de arquivo e leitura do Excel para um DataFrame\n",
    "for arquivo in arquivos:\n",
    "    caminho_arquivo = os.path.join(pasta, arquivo)  # Cria o caminho completo para o arquivo\n",
    "    if os.path.isfile(caminho_arquivo) and caminho_arquivo.endswith('.xlsx'):  # Verifica se é um arquivo Excel\n",
    "        nome_arquivo_com_extensao = os.path.basename(caminho_arquivo)  # Obtém o nome do arquivo com a extensão\n",
    "        nome_arquivo_sem_extensao = os.path.splitext(nome_arquivo_com_extensao)[0]  # Obtém o nome do arquivo sem a extensão\n",
    "        df_aba1 = pd.read_excel(caminho_arquivo, sheet_name=aba1)  # Lê a aba 'Ident. Fila na UF' do arquivo Excel\n",
    "        df_aba1['UF'] = nome_arquivo_sem_extensao  # Adiciona uma coluna 'Arquivo' com o nome do arquivo sem a extensão\n",
    "        df_aba1['STATUS'] = os.path.dirname(caminho_arquivo)  # Adiciona uma coluna 'Pasta' com o nome da pasta onde está o arquivo\n",
    "        dfs_dict[nome_arquivo_sem_extensao] = df_aba1  # Adiciona o DataFrame em um dicionário usando o nome do arquivo como chave\n",
    "\n",
    "# Concatena todos os DataFrames em um único DataFrame\n",
    "df_planilha_aba3N = pd.concat(dfs_dict.values(), ignore_index=True)"
   ]
  },
  {
   "cell_type": "code",
   "execution_count": null,
   "metadata": {},
   "outputs": [],
   "source": [
    "df_planilha_aba3N.rename(columns={'Distribuição e Cronograma da Execução do Recurso Financeiro':'CODIGO GESTOR','Unnamed: 1':'Gestão do Recurso','Unnamed: 2':'DESCRIÇÃO DO GESTOR','Unnamed: 3':'VALOR',\n",
    "                                 'Unnamed: 4':'março','Unnamed: 5':'abril','Unnamed: 6':'maio','Unnamed: 7':'junho','Unnamed: 8':'julho','Unnamed: 9':'agosto','Unnamed: 10':'setembro','Unnamed: 11':'outubro',\n",
    "                                 'Unnamed: 12':'novembro','Unnamed: 13':'dezembro','Unnamed: 14':'% TOTAL','SQ (CODIGO Interno':'SQ (CODIGO Interno'}, inplace=True)\n",
    "\n",
    "df_planilha_aba3N.drop(df_planilha_aba3N.index[0:6], inplace=True) # Remove as 5 primeiras linhas do arquivo\n",
    "df_planilha_aba3N.dropna(subset=['CODIGO GESTOR'], inplace=True) # Exclui as linhas que não possuem valor na coluna 'PROCEDIMENTO CIRÚRGICO'\n",
    "df_planilha_aba3N.drop(df_planilha_aba3N[df_planilha_aba3N['CODIGO GESTOR'] == 'CODIGO GESTOR'].index, inplace=True) # Exclui as linhas que possuem valor 'TOTAL' na coluna 'PROCEDIMENTO CIRÚRGICO'\n",
    "df_planilha_aba3N.dropna(subset=['% TOTAL'], inplace=True) # Exclui as linhas que não possuem valor na coluna 'PROCEDIMENTO CIRÚRGICO'\n",
    "df_planilha_aba3N.dropna(subset=['DESCRIÇÃO DO GESTOR'], inplace=True) # Exclui as linhas que não possuem valor na coluna 'PROCEDIMENTO CIRÚRGICO'\n",
    "\n",
    "cols = [\"março\", \"abril\", \"maio\", \"junho\", \"julho\", \"agosto\", \"setembro\", \"outubro\", \"novembro\", \"dezembro\", \"% TOTAL\"] # Define as colunas que serão formatadas\n",
    "df_planilha_aba3N[cols] = df_planilha_aba3N[cols].fillna(0).astype(float) # Converte os valores para float\n",
    "df_planilha_aba3N[cols] = df_planilha_aba3N[cols].applymap(lambda x: '{:.0%}'.format(float(x))) # Formata as colunas para porcentagem\n",
    "\n",
    "format_value = lambda x: '{:,.2f}'.format(float(x)).replace('.', '-').replace(',', '.').replace('-', ',')\n",
    "df_planilha_aba3N['VALOR'] = df_planilha_aba3N['VALOR'].apply(format_value)\n",
    "\n",
    "\n",
    "df_planilha_aba3N.head(10) # Exibe as 5 primeiras linhas do arquivo\n"
   ]
  },
  {
   "attachments": {},
   "cell_type": "markdown",
   "metadata": {},
   "source": [
    "## SALVAR ARQUIVO NÃO APROVADO"
   ]
  },
  {
   "attachments": {},
   "cell_type": "markdown",
   "metadata": {},
   "source": [
    "### EXCEL"
   ]
  },
  {
   "cell_type": "code",
   "execution_count": null,
   "metadata": {},
   "outputs": [],
   "source": [
    "writer = pd.ExcelWriter(f'PLANILHA/BASE_NAO_APROVADA.xlsx', engine='xlsxwriter') # Cria um arquivo excel\n",
    "\n",
    "df_planilha_aba1N.to_excel(writer, sheet_name='Ident. Fila na UF', index=False)\n",
    "df_planilha_aba2N.to_excel(writer, sheet_name='Ident. CNES e Proced.', index=False)\n",
    "df_planilha_aba3N.to_excel(writer, sheet_name='Execução', index=False)\n",
    "\n",
    "writer.save()\n",
    "writer.close()"
   ]
  },
  {
   "attachments": {},
   "cell_type": "markdown",
   "metadata": {},
   "source": [
    "### CSV"
   ]
  },
  {
   "cell_type": "code",
   "execution_count": null,
   "metadata": {},
   "outputs": [],
   "source": [
    "df_planilha_aba1N.to_csv('PLANILHA/BASE_NAO_APROVADA_1.csv', sep=';', encoding='latin-1', index=False) # Cria um arquivo csv\n",
    "df_planilha_aba2N.to_csv('PLANILHA/BASE_NAO_APROVADA_2.csv', sep=';', encoding='latin-1', index=False) # Cria um arquivo csv\n",
    "df_planilha_aba3N.to_csv('PLANILHA/BASE_NAO_APROVADA_3.csv', sep=';', encoding='latin-1', index=False) # Cria um arquivo csv"
   ]
  },
  {
   "cell_type": "code",
   "execution_count": null,
   "metadata": {},
   "outputs": [],
   "source": [
    "print('Arquivos gerados com sucesso!')"
   ]
  },
  {
   "attachments": {},
   "cell_type": "markdown",
   "metadata": {},
   "source": [
    "# CONSOLIDAÇÃO DE ARQUIVOS"
   ]
  },
  {
   "cell_type": "code",
   "execution_count": null,
   "metadata": {},
   "outputs": [],
   "source": [
    "df_planilha_aba1G = pd.concat([df_planilha_aba1, df_planilha_aba1N], ignore_index=True)\n",
    "df_planilha_aba2G = pd.concat([df_planilha_aba2, df_planilha_aba2N], ignore_index=True)\n",
    "df_planilha_aba3G = pd.concat([df_planilha_aba3, df_planilha_aba3N], ignore_index=True)"
   ]
  },
  {
   "cell_type": "code",
   "execution_count": null,
   "metadata": {},
   "outputs": [],
   "source": [
    "df_planilha_aba1G.head(10) # Exibe as 5 primeiras linhas do arquivo"
   ]
  },
  {
   "cell_type": "code",
   "execution_count": null,
   "metadata": {},
   "outputs": [],
   "source": [
    "df_planilha_aba2G.head(10) # Exibe as 5 primeiras linhas do arquivo"
   ]
  },
  {
   "cell_type": "code",
   "execution_count": null,
   "metadata": {},
   "outputs": [],
   "source": [
    "df_planilha_aba3G.head(10)"
   ]
  },
  {
   "attachments": {},
   "cell_type": "markdown",
   "metadata": {},
   "source": [
    "# SALVAR ARQUIVO GERAL "
   ]
  },
  {
   "attachments": {},
   "cell_type": "markdown",
   "metadata": {},
   "source": [
    "### EXCEL"
   ]
  },
  {
   "cell_type": "code",
   "execution_count": null,
   "metadata": {},
   "outputs": [],
   "source": [
    "writer = pd.ExcelWriter(f'PLANILHA/BASE_GERAL.xlsx', engine='xlsxwriter') # Cria um arquivo excel\n",
    "\n",
    "df_planilha_aba1G.to_excel(writer, sheet_name='Ident. Fila na UF', index=False)\n",
    "df_planilha_aba2G.to_excel(writer, sheet_name='Ident. CNES e Proced.', index=False)\n",
    "df_planilha_aba3G.to_excel(writer, sheet_name='Execução', index=False)\n",
    "\n",
    "\n",
    "writer.save()\n",
    "writer.close()"
   ]
  },
  {
   "attachments": {},
   "cell_type": "markdown",
   "metadata": {},
   "source": [
    "### CSV"
   ]
  },
  {
   "cell_type": "code",
   "execution_count": null,
   "metadata": {},
   "outputs": [],
   "source": [
    "df_planilha_aba1G.to_csv('PLANILHA/BASE_GERAL_1.csv', sep=';', encoding='latin-1', index=False) # Cria um arquivo csv\n",
    "df_planilha_aba2G.to_csv('PLANILHA/BASE_GERAL_2.csv', sep=';', encoding='latin-1', index=False) # Cria um arquivo csv\n",
    "df_planilha_aba3G.to_csv('PLANILHA/BASE_GERAL_3.csv', sep=';', encoding='latin-1', index=False) # Cria um arquivo csv"
   ]
  },
  {
   "cell_type": "code",
   "execution_count": null,
   "metadata": {},
   "outputs": [],
   "source": [
    "tempo_final = time.time()\n",
    "tempo_total = int(tempo_final - tempo_inicial)\n",
    "\n",
    "minutos = tempo_total // 60\n",
    "segundos = tempo_total % 60\n",
    "\n",
    "data_hora_atual = datetime.now() # Pega a data e hora atual\n",
    "print(f\"Tempo total de execução: {minutos} minutos e {segundos} segundos\" ) \n"
   ]
  }
 ],
 "metadata": {
  "kernelspec": {
   "display_name": "Python 3",
   "language": "python",
   "name": "python3"
  },
  "language_info": {
   "codemirror_mode": {
    "name": "ipython",
    "version": 3
   },
   "file_extension": ".py",
   "mimetype": "text/x-python",
   "name": "python",
   "nbconvert_exporter": "python",
   "pygments_lexer": "ipython3",
   "version": "3.10.11"
  },
  "orig_nbformat": 4
 },
 "nbformat": 4,
 "nbformat_minor": 2
}
